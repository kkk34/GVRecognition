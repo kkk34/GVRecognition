{
 "cells": [
  {
   "cell_type": "code",
   "execution_count": 1,
   "id": "599ef4c4",
   "metadata": {},
   "outputs": [],
   "source": [
    "import pandas as pd\n",
    "import matplotlib.pyplot as plt\n",
    "import numpy as np\n",
    "import seaborn as sns\n",
    "\n",
    "import warnings\n",
    "warnings.filterwarnings('ignore')"
   ]
  },
  {
   "cell_type": "code",
   "execution_count": 2,
   "id": "9297ca1d",
   "metadata": {},
   "outputs": [
    {
     "data": {
      "text/html": [
       "<div>\n",
       "<style scoped>\n",
       "    .dataframe tbody tr th:only-of-type {\n",
       "        vertical-align: middle;\n",
       "    }\n",
       "\n",
       "    .dataframe tbody tr th {\n",
       "        vertical-align: top;\n",
       "    }\n",
       "\n",
       "    .dataframe thead th {\n",
       "        text-align: right;\n",
       "    }\n",
       "</style>\n",
       "<table border=\"1\" class=\"dataframe\">\n",
       "  <thead>\n",
       "    <tr style=\"text-align: right;\">\n",
       "      <th></th>\n",
       "      <th>meanfreq</th>\n",
       "      <th>sd</th>\n",
       "      <th>median</th>\n",
       "      <th>Q25</th>\n",
       "      <th>Q75</th>\n",
       "      <th>IQR</th>\n",
       "      <th>skew</th>\n",
       "      <th>kurt</th>\n",
       "      <th>sp.ent</th>\n",
       "      <th>sfm</th>\n",
       "      <th>...</th>\n",
       "      <th>centroid</th>\n",
       "      <th>meanfun</th>\n",
       "      <th>minfun</th>\n",
       "      <th>maxfun</th>\n",
       "      <th>meandom</th>\n",
       "      <th>mindom</th>\n",
       "      <th>maxdom</th>\n",
       "      <th>dfrange</th>\n",
       "      <th>modindx</th>\n",
       "      <th>label</th>\n",
       "    </tr>\n",
       "  </thead>\n",
       "  <tbody>\n",
       "    <tr>\n",
       "      <th>0</th>\n",
       "      <td>0.059781</td>\n",
       "      <td>0.064241</td>\n",
       "      <td>0.032027</td>\n",
       "      <td>0.015071</td>\n",
       "      <td>0.090193</td>\n",
       "      <td>0.075122</td>\n",
       "      <td>12.863462</td>\n",
       "      <td>274.402906</td>\n",
       "      <td>0.893369</td>\n",
       "      <td>0.491918</td>\n",
       "      <td>...</td>\n",
       "      <td>0.059781</td>\n",
       "      <td>0.084279</td>\n",
       "      <td>0.015702</td>\n",
       "      <td>0.275862</td>\n",
       "      <td>0.007812</td>\n",
       "      <td>0.007812</td>\n",
       "      <td>0.007812</td>\n",
       "      <td>0.000000</td>\n",
       "      <td>0.000000</td>\n",
       "      <td>male</td>\n",
       "    </tr>\n",
       "    <tr>\n",
       "      <th>1</th>\n",
       "      <td>0.066009</td>\n",
       "      <td>0.067310</td>\n",
       "      <td>0.040229</td>\n",
       "      <td>0.019414</td>\n",
       "      <td>0.092666</td>\n",
       "      <td>0.073252</td>\n",
       "      <td>22.423285</td>\n",
       "      <td>634.613855</td>\n",
       "      <td>0.892193</td>\n",
       "      <td>0.513724</td>\n",
       "      <td>...</td>\n",
       "      <td>0.066009</td>\n",
       "      <td>0.107937</td>\n",
       "      <td>0.015826</td>\n",
       "      <td>0.250000</td>\n",
       "      <td>0.009014</td>\n",
       "      <td>0.007812</td>\n",
       "      <td>0.054688</td>\n",
       "      <td>0.046875</td>\n",
       "      <td>0.052632</td>\n",
       "      <td>male</td>\n",
       "    </tr>\n",
       "    <tr>\n",
       "      <th>2</th>\n",
       "      <td>0.077316</td>\n",
       "      <td>0.083829</td>\n",
       "      <td>0.036718</td>\n",
       "      <td>0.008701</td>\n",
       "      <td>0.131908</td>\n",
       "      <td>0.123207</td>\n",
       "      <td>30.757155</td>\n",
       "      <td>1024.927705</td>\n",
       "      <td>0.846389</td>\n",
       "      <td>0.478905</td>\n",
       "      <td>...</td>\n",
       "      <td>0.077316</td>\n",
       "      <td>0.098706</td>\n",
       "      <td>0.015656</td>\n",
       "      <td>0.271186</td>\n",
       "      <td>0.007990</td>\n",
       "      <td>0.007812</td>\n",
       "      <td>0.015625</td>\n",
       "      <td>0.007812</td>\n",
       "      <td>0.046512</td>\n",
       "      <td>male</td>\n",
       "    </tr>\n",
       "    <tr>\n",
       "      <th>3</th>\n",
       "      <td>0.151228</td>\n",
       "      <td>0.072111</td>\n",
       "      <td>0.158011</td>\n",
       "      <td>0.096582</td>\n",
       "      <td>0.207955</td>\n",
       "      <td>0.111374</td>\n",
       "      <td>1.232831</td>\n",
       "      <td>4.177296</td>\n",
       "      <td>0.963322</td>\n",
       "      <td>0.727232</td>\n",
       "      <td>...</td>\n",
       "      <td>0.151228</td>\n",
       "      <td>0.088965</td>\n",
       "      <td>0.017798</td>\n",
       "      <td>0.250000</td>\n",
       "      <td>0.201497</td>\n",
       "      <td>0.007812</td>\n",
       "      <td>0.562500</td>\n",
       "      <td>0.554688</td>\n",
       "      <td>0.247119</td>\n",
       "      <td>male</td>\n",
       "    </tr>\n",
       "    <tr>\n",
       "      <th>4</th>\n",
       "      <td>0.135120</td>\n",
       "      <td>0.079146</td>\n",
       "      <td>0.124656</td>\n",
       "      <td>0.078720</td>\n",
       "      <td>0.206045</td>\n",
       "      <td>0.127325</td>\n",
       "      <td>1.101174</td>\n",
       "      <td>4.333713</td>\n",
       "      <td>0.971955</td>\n",
       "      <td>0.783568</td>\n",
       "      <td>...</td>\n",
       "      <td>0.135120</td>\n",
       "      <td>0.106398</td>\n",
       "      <td>0.016931</td>\n",
       "      <td>0.266667</td>\n",
       "      <td>0.712812</td>\n",
       "      <td>0.007812</td>\n",
       "      <td>5.484375</td>\n",
       "      <td>5.476562</td>\n",
       "      <td>0.208274</td>\n",
       "      <td>male</td>\n",
       "    </tr>\n",
       "  </tbody>\n",
       "</table>\n",
       "<p>5 rows × 21 columns</p>\n",
       "</div>"
      ],
      "text/plain": [
       "   meanfreq        sd    median       Q25       Q75       IQR       skew  \\\n",
       "0  0.059781  0.064241  0.032027  0.015071  0.090193  0.075122  12.863462   \n",
       "1  0.066009  0.067310  0.040229  0.019414  0.092666  0.073252  22.423285   \n",
       "2  0.077316  0.083829  0.036718  0.008701  0.131908  0.123207  30.757155   \n",
       "3  0.151228  0.072111  0.158011  0.096582  0.207955  0.111374   1.232831   \n",
       "4  0.135120  0.079146  0.124656  0.078720  0.206045  0.127325   1.101174   \n",
       "\n",
       "          kurt    sp.ent       sfm  ...  centroid   meanfun    minfun  \\\n",
       "0   274.402906  0.893369  0.491918  ...  0.059781  0.084279  0.015702   \n",
       "1   634.613855  0.892193  0.513724  ...  0.066009  0.107937  0.015826   \n",
       "2  1024.927705  0.846389  0.478905  ...  0.077316  0.098706  0.015656   \n",
       "3     4.177296  0.963322  0.727232  ...  0.151228  0.088965  0.017798   \n",
       "4     4.333713  0.971955  0.783568  ...  0.135120  0.106398  0.016931   \n",
       "\n",
       "     maxfun   meandom    mindom    maxdom   dfrange   modindx  label  \n",
       "0  0.275862  0.007812  0.007812  0.007812  0.000000  0.000000   male  \n",
       "1  0.250000  0.009014  0.007812  0.054688  0.046875  0.052632   male  \n",
       "2  0.271186  0.007990  0.007812  0.015625  0.007812  0.046512   male  \n",
       "3  0.250000  0.201497  0.007812  0.562500  0.554688  0.247119   male  \n",
       "4  0.266667  0.712812  0.007812  5.484375  5.476562  0.208274   male  \n",
       "\n",
       "[5 rows x 21 columns]"
      ]
     },
     "execution_count": 2,
     "metadata": {},
     "output_type": "execute_result"
    }
   ],
   "source": [
    "#load data\n",
    "df = pd.read_csv('voice.csv')\n",
    "df.head()"
   ]
  },
  {
   "cell_type": "markdown",
   "id": "a9e40e7b",
   "metadata": {},
   "source": [
    "##检查空值\n"
   ]
  },
  {
   "cell_type": "code",
   "execution_count": 3,
   "id": "bd67a96a",
   "metadata": {},
   "outputs": [
    {
     "data": {
      "text/plain": [
       "meanfreq    0\n",
       "sd          0\n",
       "median      0\n",
       "Q25         0\n",
       "Q75         0\n",
       "IQR         0\n",
       "skew        0\n",
       "kurt        0\n",
       "sp.ent      0\n",
       "sfm         0\n",
       "mode        0\n",
       "centroid    0\n",
       "meanfun     0\n",
       "minfun      0\n",
       "maxfun      0\n",
       "meandom     0\n",
       "mindom      0\n",
       "maxdom      0\n",
       "dfrange     0\n",
       "modindx     0\n",
       "label       0\n",
       "dtype: int64"
      ]
     },
     "execution_count": 3,
     "metadata": {},
     "output_type": "execute_result"
    }
   ],
   "source": [
    "df.isnull().sum()"
   ]
  },
  {
   "cell_type": "code",
   "execution_count": 4,
   "id": "07ee9141",
   "metadata": {},
   "outputs": [],
   "source": [
    "def unique(col):\n",
    "   return df[col].nunique()"
   ]
  },
  {
   "cell_type": "code",
   "execution_count": 5,
   "id": "37c7ad7b",
   "metadata": {},
   "outputs": [
    {
     "name": "stdout",
     "output_type": "stream",
     "text": [
      "{'meanfreq': 3166, 'sd': 3166, 'median': 3077, 'Q25': 3103, 'Q75': 3034, 'IQR': 3073, 'skew': 3166, 'kurt': 3166, 'sp.ent': 3166, 'sfm': 3166, 'mode': 2825, 'centroid': 3166, 'meanfun': 3166, 'minfun': 913, 'maxfun': 123, 'meandom': 2999, 'mindom': 77, 'maxdom': 1054, 'dfrange': 1091, 'modindx': 3079, 'label': 2}\n"
     ]
    }
   ],
   "source": [
    "##计算不同值个数\n",
    "d = {} \n",
    "for i in df.columns:\n",
    "    value = unique(i)\n",
    "    d[i] = value\n",
    "print(d,sep=\"\\n\")"
   ]
  },
  {
   "cell_type": "code",
   "execution_count": 6,
   "id": "acdf5c90",
   "metadata": {},
   "outputs": [],
   "source": [
    "###分离因变量和应变量\n",
    "x = df.iloc[:,:-1]       ## 除了最后一列外，均为X\n",
    "y = df.label             #最后一列为Y，即男性or女性"
   ]
  },
  {
   "cell_type": "code",
   "execution_count": 7,
   "id": "e37d0145",
   "metadata": {},
   "outputs": [
    {
     "data": {
      "text/html": [
       "<div>\n",
       "<style scoped>\n",
       "    .dataframe tbody tr th:only-of-type {\n",
       "        vertical-align: middle;\n",
       "    }\n",
       "\n",
       "    .dataframe tbody tr th {\n",
       "        vertical-align: top;\n",
       "    }\n",
       "\n",
       "    .dataframe thead th {\n",
       "        text-align: right;\n",
       "    }\n",
       "</style>\n",
       "<table border=\"1\" class=\"dataframe\">\n",
       "  <thead>\n",
       "    <tr style=\"text-align: right;\">\n",
       "      <th></th>\n",
       "      <th>meanfreq</th>\n",
       "      <th>sd</th>\n",
       "      <th>median</th>\n",
       "      <th>Q25</th>\n",
       "      <th>Q75</th>\n",
       "      <th>IQR</th>\n",
       "      <th>skew</th>\n",
       "      <th>kurt</th>\n",
       "      <th>sp.ent</th>\n",
       "      <th>sfm</th>\n",
       "      <th>mode</th>\n",
       "      <th>centroid</th>\n",
       "      <th>meanfun</th>\n",
       "      <th>minfun</th>\n",
       "      <th>maxfun</th>\n",
       "      <th>meandom</th>\n",
       "      <th>mindom</th>\n",
       "      <th>maxdom</th>\n",
       "      <th>dfrange</th>\n",
       "      <th>modindx</th>\n",
       "    </tr>\n",
       "  </thead>\n",
       "  <tbody>\n",
       "    <tr>\n",
       "      <th>0</th>\n",
       "      <td>0.059781</td>\n",
       "      <td>0.064241</td>\n",
       "      <td>0.032027</td>\n",
       "      <td>0.015071</td>\n",
       "      <td>0.090193</td>\n",
       "      <td>0.075122</td>\n",
       "      <td>12.863462</td>\n",
       "      <td>274.402906</td>\n",
       "      <td>0.893369</td>\n",
       "      <td>0.491918</td>\n",
       "      <td>0.000000</td>\n",
       "      <td>0.059781</td>\n",
       "      <td>0.084279</td>\n",
       "      <td>0.015702</td>\n",
       "      <td>0.275862</td>\n",
       "      <td>0.007812</td>\n",
       "      <td>0.007812</td>\n",
       "      <td>0.007812</td>\n",
       "      <td>0.000000</td>\n",
       "      <td>0.000000</td>\n",
       "    </tr>\n",
       "    <tr>\n",
       "      <th>1</th>\n",
       "      <td>0.066009</td>\n",
       "      <td>0.067310</td>\n",
       "      <td>0.040229</td>\n",
       "      <td>0.019414</td>\n",
       "      <td>0.092666</td>\n",
       "      <td>0.073252</td>\n",
       "      <td>22.423285</td>\n",
       "      <td>634.613855</td>\n",
       "      <td>0.892193</td>\n",
       "      <td>0.513724</td>\n",
       "      <td>0.000000</td>\n",
       "      <td>0.066009</td>\n",
       "      <td>0.107937</td>\n",
       "      <td>0.015826</td>\n",
       "      <td>0.250000</td>\n",
       "      <td>0.009014</td>\n",
       "      <td>0.007812</td>\n",
       "      <td>0.054688</td>\n",
       "      <td>0.046875</td>\n",
       "      <td>0.052632</td>\n",
       "    </tr>\n",
       "    <tr>\n",
       "      <th>2</th>\n",
       "      <td>0.077316</td>\n",
       "      <td>0.083829</td>\n",
       "      <td>0.036718</td>\n",
       "      <td>0.008701</td>\n",
       "      <td>0.131908</td>\n",
       "      <td>0.123207</td>\n",
       "      <td>30.757155</td>\n",
       "      <td>1024.927705</td>\n",
       "      <td>0.846389</td>\n",
       "      <td>0.478905</td>\n",
       "      <td>0.000000</td>\n",
       "      <td>0.077316</td>\n",
       "      <td>0.098706</td>\n",
       "      <td>0.015656</td>\n",
       "      <td>0.271186</td>\n",
       "      <td>0.007990</td>\n",
       "      <td>0.007812</td>\n",
       "      <td>0.015625</td>\n",
       "      <td>0.007812</td>\n",
       "      <td>0.046512</td>\n",
       "    </tr>\n",
       "    <tr>\n",
       "      <th>3</th>\n",
       "      <td>0.151228</td>\n",
       "      <td>0.072111</td>\n",
       "      <td>0.158011</td>\n",
       "      <td>0.096582</td>\n",
       "      <td>0.207955</td>\n",
       "      <td>0.111374</td>\n",
       "      <td>1.232831</td>\n",
       "      <td>4.177296</td>\n",
       "      <td>0.963322</td>\n",
       "      <td>0.727232</td>\n",
       "      <td>0.083878</td>\n",
       "      <td>0.151228</td>\n",
       "      <td>0.088965</td>\n",
       "      <td>0.017798</td>\n",
       "      <td>0.250000</td>\n",
       "      <td>0.201497</td>\n",
       "      <td>0.007812</td>\n",
       "      <td>0.562500</td>\n",
       "      <td>0.554688</td>\n",
       "      <td>0.247119</td>\n",
       "    </tr>\n",
       "    <tr>\n",
       "      <th>4</th>\n",
       "      <td>0.135120</td>\n",
       "      <td>0.079146</td>\n",
       "      <td>0.124656</td>\n",
       "      <td>0.078720</td>\n",
       "      <td>0.206045</td>\n",
       "      <td>0.127325</td>\n",
       "      <td>1.101174</td>\n",
       "      <td>4.333713</td>\n",
       "      <td>0.971955</td>\n",
       "      <td>0.783568</td>\n",
       "      <td>0.104261</td>\n",
       "      <td>0.135120</td>\n",
       "      <td>0.106398</td>\n",
       "      <td>0.016931</td>\n",
       "      <td>0.266667</td>\n",
       "      <td>0.712812</td>\n",
       "      <td>0.007812</td>\n",
       "      <td>5.484375</td>\n",
       "      <td>5.476562</td>\n",
       "      <td>0.208274</td>\n",
       "    </tr>\n",
       "  </tbody>\n",
       "</table>\n",
       "</div>"
      ],
      "text/plain": [
       "   meanfreq        sd    median       Q25       Q75       IQR       skew  \\\n",
       "0  0.059781  0.064241  0.032027  0.015071  0.090193  0.075122  12.863462   \n",
       "1  0.066009  0.067310  0.040229  0.019414  0.092666  0.073252  22.423285   \n",
       "2  0.077316  0.083829  0.036718  0.008701  0.131908  0.123207  30.757155   \n",
       "3  0.151228  0.072111  0.158011  0.096582  0.207955  0.111374   1.232831   \n",
       "4  0.135120  0.079146  0.124656  0.078720  0.206045  0.127325   1.101174   \n",
       "\n",
       "          kurt    sp.ent       sfm      mode  centroid   meanfun    minfun  \\\n",
       "0   274.402906  0.893369  0.491918  0.000000  0.059781  0.084279  0.015702   \n",
       "1   634.613855  0.892193  0.513724  0.000000  0.066009  0.107937  0.015826   \n",
       "2  1024.927705  0.846389  0.478905  0.000000  0.077316  0.098706  0.015656   \n",
       "3     4.177296  0.963322  0.727232  0.083878  0.151228  0.088965  0.017798   \n",
       "4     4.333713  0.971955  0.783568  0.104261  0.135120  0.106398  0.016931   \n",
       "\n",
       "     maxfun   meandom    mindom    maxdom   dfrange   modindx  \n",
       "0  0.275862  0.007812  0.007812  0.007812  0.000000  0.000000  \n",
       "1  0.250000  0.009014  0.007812  0.054688  0.046875  0.052632  \n",
       "2  0.271186  0.007990  0.007812  0.015625  0.007812  0.046512  \n",
       "3  0.250000  0.201497  0.007812  0.562500  0.554688  0.247119  \n",
       "4  0.266667  0.712812  0.007812  5.484375  5.476562  0.208274  "
      ]
     },
     "execution_count": 7,
     "metadata": {},
     "output_type": "execute_result"
    }
   ],
   "source": [
    "x.head()"
   ]
  },
  {
   "cell_type": "code",
   "execution_count": 8,
   "id": "bdfbc83d",
   "metadata": {},
   "outputs": [
    {
     "data": {
      "text/plain": [
       "0    male\n",
       "1    male\n",
       "2    male\n",
       "3    male\n",
       "4    male\n",
       "Name: label, dtype: object"
      ]
     },
     "execution_count": 8,
     "metadata": {},
     "output_type": "execute_result"
    }
   ],
   "source": [
    "y.head()"
   ]
  },
  {
   "cell_type": "code",
   "execution_count": 9,
   "id": "cbc31b6b",
   "metadata": {},
   "outputs": [
    {
     "data": {
      "text/plain": [
       "male      1584\n",
       "female    1584\n",
       "Name: label, dtype: int64"
      ]
     },
     "execution_count": 9,
     "metadata": {},
     "output_type": "execute_result"
    }
   ],
   "source": [
    "df['label'].value_counts()"
   ]
  },
  {
   "cell_type": "code",
   "execution_count": 10,
   "id": "56101698",
   "metadata": {},
   "outputs": [],
   "source": [
    "data = ['Female','Male']\n",
    "d= [1584,1584]"
   ]
  },
  {
   "cell_type": "code",
   "execution_count": 11,
   "id": "24d66b98",
   "metadata": {},
   "outputs": [
    {
     "data": {
      "image/png": "[encoded data removed]",
      "text/plain": [
       "<Figure size 1000x700 with 1 Axes>"
      ]
     },
     "metadata": {},
     "output_type": "display_data"
    }
   ],
   "source": [
    "fig = plt.figure(figsize =(10, 7))\n",
    "plt.pie(d, labels = data)\n",
    "\n",
    "plt.show()"
   ]
  },
  {
   "cell_type": "code",
   "execution_count": 12,
   "id": "0a4ee3f6",
   "metadata": {},
   "outputs": [],
   "source": [
    "#使用一个0-1变量（哑变量）进行替代male和female两个属性\n",
    "from sklearn.preprocessing import LabelEncoder\n",
    "y = LabelEncoder().fit_transform(y)"
   ]
  },
  {
   "cell_type": "code",
   "execution_count": 13,
   "id": "bb8e863b",
   "metadata": {},
   "outputs": [
    {
     "name": "stdout",
     "output_type": "stream",
     "text": [
      "[0 0 1 1 1 0 0 0 1 0]\n"
     ]
    }
   ],
   "source": [
    "#将数据集拆分为训练和测试，测试大小为20%\n",
    "from sklearn.model_selection import train_test_split\n",
    "x_train, x_test,y_train,y_test = train_test_split(x,y,test_size=0.2)\n",
    "\n",
    "\n",
    "###数据归一化\n",
    "from sklearn.preprocessing import StandardScaler\n",
    "scaler1 = StandardScaler()\n",
    "scaler1.fit(x_train)\n",
    "x_train = scaler1.transform(x_train)\n",
    "x_test = scaler1.transform(x_test)\n",
    "\n",
    "\n",
    "###决策树分类\n",
    "from sklearn.tree import DecisionTreeClassifier\n",
    "DTmodel = DecisionTreeClassifier(random_state = 1)\n",
    "model = DTmodel.fit(x_train,y_train)    #拟合模型\n",
    "\n",
    "y_pred1 = DTmodel.predict(x_test)     #返回预测标签 \n",
    "y_pred1 = np.array(y_pred1)           \n",
    "\n",
    "print(y_pred1[:10])            #输出前十个预测标签 "
   ]
  },
  {
   "cell_type": "code",
   "execution_count": 14,
   "id": "3048b16e",
   "metadata": {},
   "outputs": [],
   "source": [
    "#y_pred_validation = DTmodel.predict_proba(x_test)\n",
    "#print(y_pred_validation)"
   ]
  },
  {
   "cell_type": "code",
   "execution_count": 15,
   "id": "30063b31",
   "metadata": {},
   "outputs": [
    {
     "name": "stdout",
     "output_type": "stream",
     "text": [
      "DecisionTreeClassifier的AUC为: 0.9652996845425867\n"
     ]
    }
   ],
   "source": [
    "from sklearn.metrics import plot_roc_curve,roc_curve,auc,roc_auc_score\n",
    "score_DT = DTmodel.predict_proba(x_test)[:,1]\n",
    "print(\"DecisionTreeClassifier的AUC为:\",roc_auc_score(y_test,score_DT))   #测试"
   ]
  },
  {
   "cell_type": "code",
   "execution_count": 16,
   "id": "ace39ca2",
   "metadata": {},
   "outputs": [
    {
     "data": {
      "text/html": [
       "<div>\n",
       "<style scoped>\n",
       "    .dataframe tbody tr th:only-of-type {\n",
       "        vertical-align: middle;\n",
       "    }\n",
       "\n",
       "    .dataframe tbody tr th {\n",
       "        vertical-align: top;\n",
       "    }\n",
       "\n",
       "    .dataframe thead th {\n",
       "        text-align: right;\n",
       "    }\n",
       "</style>\n",
       "<table border=\"1\" class=\"dataframe\">\n",
       "  <thead>\n",
       "    <tr style=\"text-align: right;\">\n",
       "      <th>confusion</th>\n",
       "      <th>0</th>\n",
       "      <th>1</th>\n",
       "      <th>All</th>\n",
       "    </tr>\n",
       "    <tr>\n",
       "      <th>matrix</th>\n",
       "      <th></th>\n",
       "      <th></th>\n",
       "      <th></th>\n",
       "    </tr>\n",
       "  </thead>\n",
       "  <tbody>\n",
       "    <tr>\n",
       "      <th>0</th>\n",
       "      <td>306</td>\n",
       "      <td>11</td>\n",
       "      <td>317</td>\n",
       "    </tr>\n",
       "    <tr>\n",
       "      <th>1</th>\n",
       "      <td>11</td>\n",
       "      <td>306</td>\n",
       "      <td>317</td>\n",
       "    </tr>\n",
       "    <tr>\n",
       "      <th>All</th>\n",
       "      <td>317</td>\n",
       "      <td>317</td>\n",
       "      <td>634</td>\n",
       "    </tr>\n",
       "  </tbody>\n",
       "</table>\n",
       "</div>"
      ],
      "text/plain": [
       "confusion    0    1  All\n",
       "matrix                  \n",
       "0          306   11  317\n",
       "1           11  306  317\n",
       "All        317  317  634"
      ]
     },
     "execution_count": 16,
     "metadata": {},
     "output_type": "execute_result"
    }
   ],
   "source": [
    "from sklearn.metrics import classification_report,accuracy_score\n",
    "pd.crosstab(y_pred1,y_test,rownames=['matrix'],colnames=['confusion'],margins = True)"
   ]
  },
  {
   "cell_type": "code",
   "execution_count": 17,
   "id": "e430364f",
   "metadata": {},
   "outputs": [
    {
     "name": "stdout",
     "output_type": "stream",
     "text": [
      "\t\t\tDecision Tree Class report:\n",
      "               precision    recall  f1-score   support\n",
      "\n",
      "           0       0.97      0.97      0.97       317\n",
      "           1       0.97      0.97      0.97       317\n",
      "\n",
      "    accuracy                           0.97       634\n",
      "   macro avg       0.97      0.97      0.97       634\n",
      "weighted avg       0.97      0.97      0.97       634\n",
      "\n"
     ]
    }
   ],
   "source": [
    "print(\"\\t\\t\\tDecision Tree Class report:\\n\",classification_report(y_pred1,y_test))"
   ]
  },
  {
   "cell_type": "code",
   "execution_count": 18,
   "id": "eb8838f4",
   "metadata": {},
   "outputs": [
    {
     "name": "stdout",
     "output_type": "stream",
     "text": [
      "Decision Tree Accuracy score:  96.52996845425868 %\n"
     ]
    }
   ],
   "source": [
    "print(\"Decision Tree Accuracy score: \",accuracy_score(y_pred1,y_test)*100,\"%\")"
   ]
  },
  {
   "cell_type": "code",
   "execution_count": 19,
   "id": "6fdc9ef1",
   "metadata": {},
   "outputs": [
    {
     "name": "stdout",
     "output_type": "stream",
     "text": [
      "[0 0 1 1 1 0 0 0 1 0]\n"
     ]
    }
   ],
   "source": [
    "###随机森林\n",
    "from sklearn.ensemble import RandomForestClassifier\n",
    "RFmodel = RandomForestClassifier(random_state = 200)\n",
    "RFmodel.fit(x_train,y_train)\n",
    "y_pred2 = RFmodel.predict(x_test)\n",
    "print(y_pred2[:10])"
   ]
  },
  {
   "cell_type": "code",
   "execution_count": 20,
   "id": "9c4b5044",
   "metadata": {},
   "outputs": [
    {
     "name": "stdout",
     "output_type": "stream",
     "text": [
      "score of Random forest model is:  0.9826498422712934\n"
     ]
    }
   ],
   "source": [
    "print('score of Random forest model is: ',RFmodel.score(x_test,y_test))"
   ]
  },
  {
   "cell_type": "code",
   "execution_count": 21,
   "id": "48daa9b7",
   "metadata": {},
   "outputs": [
    {
     "data": {
      "text/html": [
       "<div>\n",
       "<style scoped>\n",
       "    .dataframe tbody tr th:only-of-type {\n",
       "        vertical-align: middle;\n",
       "    }\n",
       "\n",
       "    .dataframe tbody tr th {\n",
       "        vertical-align: top;\n",
       "    }\n",
       "\n",
       "    .dataframe thead th {\n",
       "        text-align: right;\n",
       "    }\n",
       "</style>\n",
       "<table border=\"1\" class=\"dataframe\">\n",
       "  <thead>\n",
       "    <tr style=\"text-align: right;\">\n",
       "      <th>confusion</th>\n",
       "      <th>0</th>\n",
       "      <th>1</th>\n",
       "      <th>All</th>\n",
       "    </tr>\n",
       "    <tr>\n",
       "      <th>matrix</th>\n",
       "      <th></th>\n",
       "      <th></th>\n",
       "      <th></th>\n",
       "    </tr>\n",
       "  </thead>\n",
       "  <tbody>\n",
       "    <tr>\n",
       "      <th>0</th>\n",
       "      <td>312</td>\n",
       "      <td>6</td>\n",
       "      <td>318</td>\n",
       "    </tr>\n",
       "    <tr>\n",
       "      <th>1</th>\n",
       "      <td>5</td>\n",
       "      <td>311</td>\n",
       "      <td>316</td>\n",
       "    </tr>\n",
       "    <tr>\n",
       "      <th>All</th>\n",
       "      <td>317</td>\n",
       "      <td>317</td>\n",
       "      <td>634</td>\n",
       "    </tr>\n",
       "  </tbody>\n",
       "</table>\n",
       "</div>"
      ],
      "text/plain": [
       "confusion    0    1  All\n",
       "matrix                  \n",
       "0          312    6  318\n",
       "1            5  311  316\n",
       "All        317  317  634"
      ]
     },
     "execution_count": 21,
     "metadata": {},
     "output_type": "execute_result"
    }
   ],
   "source": [
    "pd.crosstab(y_pred2,y_test,rownames=['matrix'],colnames=['confusion'],margins = True)"
   ]
  },
  {
   "cell_type": "code",
   "execution_count": 22,
   "id": "c70468d5",
   "metadata": {},
   "outputs": [
    {
     "name": "stdout",
     "output_type": "stream",
     "text": [
      "\t\t\tRandom Forest Class report:\n",
      "               precision    recall  f1-score   support\n",
      "\n",
      "           0       0.98      0.98      0.98       318\n",
      "           1       0.98      0.98      0.98       316\n",
      "\n",
      "    accuracy                           0.98       634\n",
      "   macro avg       0.98      0.98      0.98       634\n",
      "weighted avg       0.98      0.98      0.98       634\n",
      "\n"
     ]
    }
   ],
   "source": [
    "print(\"\\t\\t\\tRandom Forest Class report:\\n\",classification_report(y_pred2,y_test))"
   ]
  },
  {
   "cell_type": "code",
   "execution_count": 23,
   "id": "6ba2ff67",
   "metadata": {},
   "outputs": [
    {
     "name": "stdout",
     "output_type": "stream",
     "text": [
      "Random Forest Accuracy score:  98.26498422712933 %\n"
     ]
    }
   ],
   "source": [
    "print(\"Random Forest Accuracy score: \",accuracy_score(y_pred2,y_test)*100,\"%\")"
   ]
  },
  {
   "cell_type": "code",
   "execution_count": 24,
   "id": "d64c4046",
   "metadata": {},
   "outputs": [
    {
     "name": "stdout",
     "output_type": "stream",
     "text": [
      "[0 0 1 1 1 0 0 0 1 0]\n"
     ]
    }
   ],
   "source": [
    "###逻辑回归\n",
    "from sklearn.linear_model import LogisticRegression\n",
    "LRmodel = LogisticRegression(max_iter=10000)\n",
    "LRmodel.fit(x_train,y_train)\n",
    "y_pred3 = LRmodel.predict(x_test)\n",
    "print(y_pred3[:10])"
   ]
  },
  {
   "cell_type": "code",
   "execution_count": 25,
   "id": "813f5ffc",
   "metadata": {},
   "outputs": [
    {
     "name": "stdout",
     "output_type": "stream",
     "text": [
      "score of Log Reg model is:  0.9779179810725552\n"
     ]
    }
   ],
   "source": [
    "print('score of Log Reg model is: ',LRmodel.score(x_test,y_test))"
   ]
  },
  {
   "cell_type": "code",
   "execution_count": 26,
   "id": "a4a12858",
   "metadata": {},
   "outputs": [
    {
     "data": {
      "text/html": [
       "<div>\n",
       "<style scoped>\n",
       "    .dataframe tbody tr th:only-of-type {\n",
       "        vertical-align: middle;\n",
       "    }\n",
       "\n",
       "    .dataframe tbody tr th {\n",
       "        vertical-align: top;\n",
       "    }\n",
       "\n",
       "    .dataframe thead th {\n",
       "        text-align: right;\n",
       "    }\n",
       "</style>\n",
       "<table border=\"1\" class=\"dataframe\">\n",
       "  <thead>\n",
       "    <tr style=\"text-align: right;\">\n",
       "      <th>confusion</th>\n",
       "      <th>0</th>\n",
       "      <th>1</th>\n",
       "      <th>All</th>\n",
       "    </tr>\n",
       "    <tr>\n",
       "      <th>matrix</th>\n",
       "      <th></th>\n",
       "      <th></th>\n",
       "      <th></th>\n",
       "    </tr>\n",
       "  </thead>\n",
       "  <tbody>\n",
       "    <tr>\n",
       "      <th>0</th>\n",
       "      <td>310</td>\n",
       "      <td>7</td>\n",
       "      <td>317</td>\n",
       "    </tr>\n",
       "    <tr>\n",
       "      <th>1</th>\n",
       "      <td>7</td>\n",
       "      <td>310</td>\n",
       "      <td>317</td>\n",
       "    </tr>\n",
       "    <tr>\n",
       "      <th>All</th>\n",
       "      <td>317</td>\n",
       "      <td>317</td>\n",
       "      <td>634</td>\n",
       "    </tr>\n",
       "  </tbody>\n",
       "</table>\n",
       "</div>"
      ],
      "text/plain": [
       "confusion    0    1  All\n",
       "matrix                  \n",
       "0          310    7  317\n",
       "1            7  310  317\n",
       "All        317  317  634"
      ]
     },
     "execution_count": 26,
     "metadata": {},
     "output_type": "execute_result"
    }
   ],
   "source": [
    "pd.crosstab(y_pred3,y_test,rownames=['matrix'],colnames=['confusion'],margins = True)"
   ]
  },
  {
   "cell_type": "code",
   "execution_count": 27,
   "id": "6e9d3781",
   "metadata": {},
   "outputs": [
    {
     "name": "stdout",
     "output_type": "stream",
     "text": [
      "\t\t\tLog Reg Class report:\n",
      "               precision    recall  f1-score   support\n",
      "\n",
      "           0       0.98      0.98      0.98       318\n",
      "           1       0.98      0.98      0.98       316\n",
      "\n",
      "    accuracy                           0.98       634\n",
      "   macro avg       0.98      0.98      0.98       634\n",
      "weighted avg       0.98      0.98      0.98       634\n",
      "\n"
     ]
    }
   ],
   "source": [
    "print(\"\\t\\t\\tLog Reg Class report:\\n\",classification_report(y_pred2,y_test))"
   ]
  },
  {
   "cell_type": "code",
   "execution_count": 28,
   "id": "ba8c8119",
   "metadata": {},
   "outputs": [
    {
     "name": "stdout",
     "output_type": "stream",
     "text": [
      "Log Reg Accuracy score:  97.79179810725552 %\n"
     ]
    }
   ],
   "source": [
    "print(\"Log Reg Accuracy score: \",accuracy_score(y_pred3,y_test)*100,\"%\")"
   ]
  },
  {
   "cell_type": "code",
   "execution_count": 29,
   "id": "f695f25e",
   "metadata": {},
   "outputs": [
    {
     "data": {
      "text/plain": [
       "array([0, 0, 1, 1, 1, 0, 0, 0, 1, 0])"
      ]
     },
     "execution_count": 29,
     "metadata": {},
     "output_type": "execute_result"
    }
   ],
   "source": [
    "###KNN分类器\n",
    "from sklearn.neighbors import KNeighborsClassifier\n",
    "KNmodel = KNeighborsClassifier(n_neighbors =15, metric = 'minkowski', p = 1)\n",
    "KNmodel.fit(x_train, y_train)\n",
    "y_pred4 = KNmodel.predict(x_test)\n",
    "y_pred4[:10]"
   ]
  },
  {
   "cell_type": "code",
   "execution_count": 30,
   "id": "f0977a30",
   "metadata": {},
   "outputs": [
    {
     "name": "stdout",
     "output_type": "stream",
     "text": [
      "score of KNN model is:  0.9621451104100947\n"
     ]
    }
   ],
   "source": [
    "print('score of KNN model is: ', KNmodel.score(x_test,y_test))"
   ]
  },
  {
   "cell_type": "code",
   "execution_count": 31,
   "id": "0eaab1ce",
   "metadata": {},
   "outputs": [
    {
     "data": {
      "text/html": [
       "<div>\n",
       "<style scoped>\n",
       "    .dataframe tbody tr th:only-of-type {\n",
       "        vertical-align: middle;\n",
       "    }\n",
       "\n",
       "    .dataframe tbody tr th {\n",
       "        vertical-align: top;\n",
       "    }\n",
       "\n",
       "    .dataframe thead th {\n",
       "        text-align: right;\n",
       "    }\n",
       "</style>\n",
       "<table border=\"1\" class=\"dataframe\">\n",
       "  <thead>\n",
       "    <tr style=\"text-align: right;\">\n",
       "      <th>confusion</th>\n",
       "      <th>0</th>\n",
       "      <th>1</th>\n",
       "      <th>All</th>\n",
       "    </tr>\n",
       "    <tr>\n",
       "      <th>matrix</th>\n",
       "      <th></th>\n",
       "      <th></th>\n",
       "      <th></th>\n",
       "    </tr>\n",
       "  </thead>\n",
       "  <tbody>\n",
       "    <tr>\n",
       "      <th>0</th>\n",
       "      <td>303</td>\n",
       "      <td>10</td>\n",
       "      <td>313</td>\n",
       "    </tr>\n",
       "    <tr>\n",
       "      <th>1</th>\n",
       "      <td>14</td>\n",
       "      <td>307</td>\n",
       "      <td>321</td>\n",
       "    </tr>\n",
       "    <tr>\n",
       "      <th>All</th>\n",
       "      <td>317</td>\n",
       "      <td>317</td>\n",
       "      <td>634</td>\n",
       "    </tr>\n",
       "  </tbody>\n",
       "</table>\n",
       "</div>"
      ],
      "text/plain": [
       "confusion    0    1  All\n",
       "matrix                  \n",
       "0          303   10  313\n",
       "1           14  307  321\n",
       "All        317  317  634"
      ]
     },
     "execution_count": 31,
     "metadata": {},
     "output_type": "execute_result"
    }
   ],
   "source": [
    "pd.crosstab(y_pred4,y_test,rownames=['matrix'],colnames=['confusion'],margins = True)"
   ]
  },
  {
   "cell_type": "code",
   "execution_count": 32,
   "id": "5f12e57c",
   "metadata": {},
   "outputs": [
    {
     "name": "stdout",
     "output_type": "stream",
     "text": [
      "\t\t\tKNN report:\n",
      "               precision    recall  f1-score   support\n",
      "\n",
      "           0       0.96      0.97      0.96       313\n",
      "           1       0.97      0.96      0.96       321\n",
      "\n",
      "    accuracy                           0.96       634\n",
      "   macro avg       0.96      0.96      0.96       634\n",
      "weighted avg       0.96      0.96      0.96       634\n",
      "\n"
     ]
    }
   ],
   "source": [
    "print(\"\\t\\t\\tKNN report:\\n\",classification_report(y_pred4,y_test))"
   ]
  },
  {
   "cell_type": "code",
   "execution_count": 33,
   "id": "b4246817",
   "metadata": {},
   "outputs": [
    {
     "name": "stdout",
     "output_type": "stream",
     "text": [
      "KNN Accuracy score:  96.21451104100946 %\n"
     ]
    }
   ],
   "source": [
    "print(\"KNN Accuracy score: \",accuracy_score(y_pred4,y_test)*100,\"%\")"
   ]
  },
  {
   "cell_type": "code",
   "execution_count": 34,
   "id": "efc1b560",
   "metadata": {},
   "outputs": [
    {
     "name": "stdout",
     "output_type": "stream",
     "text": [
      "score of SVM model is:  0.9810725552050473\n"
     ]
    }
   ],
   "source": [
    "###SVM分类器\n",
    "from sklearn.svm import SVC\n",
    "SVMmodel = SVC(kernel = 'linear',probability=True)\n",
    "SVMmodel.fit(x_train,y_train)\n",
    "y_pred5 = SVMmodel.predict(x_test)\n",
    "y_pred5[:10]\n",
    "print('score of SVM model is: ', SVMmodel.score(x_test,y_test))"
   ]
  },
  {
   "cell_type": "code",
   "execution_count": 35,
   "id": "07f6b3f2",
   "metadata": {},
   "outputs": [
    {
     "name": "stdout",
     "output_type": "stream",
     "text": [
      "confusion    0    1  All\n",
      "matrix                  \n",
      "0          311    6  317\n",
      "1            6  311  317\n",
      "All        317  317  634\n"
     ]
    }
   ],
   "source": [
    "print(pd.crosstab(y_pred5,y_test,rownames=['matrix'],colnames=['confusion'],margins = True))"
   ]
  },
  {
   "cell_type": "code",
   "execution_count": 36,
   "id": "b43d5b4d",
   "metadata": {},
   "outputs": [
    {
     "name": "stdout",
     "output_type": "stream",
     "text": [
      "\t\t\tSVM report:\n",
      "               precision    recall  f1-score   support\n",
      "\n",
      "           0       0.98      0.98      0.98       317\n",
      "           1       0.98      0.98      0.98       317\n",
      "\n",
      "    accuracy                           0.98       634\n",
      "   macro avg       0.98      0.98      0.98       634\n",
      "weighted avg       0.98      0.98      0.98       634\n",
      "\n"
     ]
    }
   ],
   "source": [
    "print(\"\\t\\t\\tSVM report:\\n\",classification_report(y_pred5,y_test))"
   ]
  },
  {
   "cell_type": "code",
   "execution_count": 37,
   "id": "c6c4084f",
   "metadata": {},
   "outputs": [
    {
     "name": "stdout",
     "output_type": "stream",
     "text": [
      "SVM Accuracy score:  98.10725552050474 %\n"
     ]
    }
   ],
   "source": [
    "print(\"SVM Accuracy score: \",accuracy_score(y_pred5,y_test)*100,\"%\")"
   ]
  },
  {
   "cell_type": "code",
   "execution_count": 38,
   "id": "3ad23e47",
   "metadata": {},
   "outputs": [
    {
     "data": {
      "text/plain": [
       "Text(0.5, 0, 'False Positive Rate')"
      ]
     },
     "execution_count": 38,
     "metadata": {},
     "output_type": "execute_result"
    },
    {
     "data": {
      "image/png": "[encoded data removed]",
      "text/plain": [
       "<Figure size 1000x700 with 1 Axes>"
      ]
     },
     "metadata": {},
     "output_type": "display_data"
    }
   ],
   "source": [
    "from sklearn.metrics import roc_curve, auc  \n",
    "import matplotlib.pyplot as plt\n",
    "\n",
    "#plt.figure()\n",
    "fig = plt.figure(figsize =(10, 7))\n",
    "###############画DTmodel的ROC-AUC曲线########################\n",
    "prob_predict_y_validation_DTmodel = DTmodel.predict_proba(x_test)#给出带有概率值的结果，每个点所有label的概率和为1\n",
    "predictions_validation_DTmodel = prob_predict_y_validation_DTmodel[:, 1]  \n",
    "fpr_DTmodel, tpr_DTmodel, _ = roc_curve(y_test, predictions_validation_DTmodel) \n",
    "roc_auc_DTmodel = auc(fpr_DTmodel, tpr_DTmodel)  \n",
    "plt.plot(fpr_DTmodel, tpr_DTmodel, 'b', label='DTmodel = %0.2f' % roc_auc_DTmodel) \n",
    "\n",
    "###############画rf的ROC-AUC曲线########################\n",
    "\n",
    "prob_predict_y_validation_RFmodel = RFmodel.predict_proba(x_test)#给出带有概率值的结果，每个点所有label的概率和为1\n",
    "predictions_validation_RFmodel = prob_predict_y_validation_RFmodel[:, 1]  \n",
    "fpr_RFmodel, tpr_RFmodel, _ = roc_curve(y_test, predictions_validation_RFmodel) \n",
    "roc_auc_RFmodel = auc(fpr_RFmodel, tpr_RFmodel)  \n",
    "plt.plot(fpr_RFmodel, tpr_RFmodel, '#9932CC', label='RFmodel = %0.2f' % roc_auc_RFmodel) \n",
    "\n",
    "###############画logistic的ROC-AUC曲线########################\n",
    "\n",
    "prob_predict_y_validation_LRmodel = LRmodel.predict_proba(x_test) #给出带有概率值的结果，每个点所有label的概率和为1\n",
    "predictions_validation_LRmodel = prob_predict_y_validation_LRmodel[:, 1]  \n",
    "fpr_LRmodel, tpr_LRmodel, _ = roc_curve(y_test, predictions_validation_LRmodel) \n",
    "roc_auc_LRmodel = auc(fpr_LRmodel, tpr_LRmodel)  \n",
    "plt.plot(fpr_LRmodel, tpr_LRmodel, 'g', label='LRmodel = %0.2f' % roc_auc_LRmodel) \n",
    "\n",
    "\n",
    "###############画KNN的ROC-AUC曲线########################\n",
    "\n",
    "prob_predict_y_validation_KNmodel = KNmodel.predict_proba(x_test)#给出带有概率值的结果，每个点所有label的概率和为1\n",
    "predictions_validation_KNmodel = prob_predict_y_validation_KNmodel[:, 1]  \n",
    "fpr_KNmodel, tpr_KNmodel, _ = roc_curve(y_test, predictions_validation_KNmodel) \n",
    "roc_auc_KNmodel = auc(fpr_KNmodel, tpr_KNmodel)  \n",
    "plt.plot(fpr_KNmodel, tpr_KNmodel, 'y', label='KNmodel = %0.2f' % roc_auc_KNmodel)\n",
    "\n",
    "###############画SVM的ROC-AUC曲线########################\n",
    "\n",
    "prob_predict_y_validation_SVMmodel = SVMmodel.predict_proba(x_test)#给出带有概率值的结果，每个点所有label的概率和为1\n",
    "predictions_validation_SVMmodel = prob_predict_y_validation_SVMmodel[:, 1]  \n",
    "fpr_SVMmodel, tpr_SVMmodel, _ = roc_curve(y_test, predictions_validation_SVMmodel) \n",
    "roc_auc_SVMmodel= auc(fpr_SVMmodel, tpr_SVMmodel)  \n",
    "plt.plot(fpr_SVMmodel, tpr_SVMmodel, 'm', label='SVMmodel = %0.f' % roc_auc_SVMmodel) \n",
    "\n",
    "\n",
    "###############################roc auc公共设置##################################\n",
    "plt.title('ROC Validation')  \n",
    "plt.legend(loc='lower right')  \n",
    "plt.plot([0, 1], [0, 1], 'r--')  \n",
    "plt.xlim([0, 1])  \n",
    "plt.ylim([0, 1])  \n",
    "plt.ylabel('True Positive Rate')  \n",
    "plt.xlabel('False Positive Rate') \n"
   ]
  },
  {
   "cell_type": "code",
   "execution_count": 39,
   "id": "3e14bae6",
   "metadata": {},
   "outputs": [
    {
     "name": "stdout",
     "output_type": "stream",
     "text": [
      "[0.00230811 0.00296143 0.00084816 0.01275809 0.00238078 0.06320562\n",
      " 0.00423932 0.00140314 0.01357726 0.01218107 0.00244231 0.00505356\n",
      " 0.8458618  0.01664021 0.00105235 0.00140314 0.         0.00754654\n",
      " 0.00257017 0.00156693]\n"
     ]
    }
   ],
   "source": [
    "from sklearn.feature_selection import SelectFromModel\n",
    "model = SelectFromModel(DTmodel, prefit=True)\n",
    "x_new = model.transform(x)            #对基本分类器进行训练并执行特征选择\n",
    " \n",
    "print(DTmodel.feature_importances_)   #输出特征的总占比"
   ]
  },
  {
   "cell_type": "code",
   "execution_count": 40,
   "id": "daa38749",
   "metadata": {},
   "outputs": [],
   "source": [
    "list1 = [y_pred1,y_pred2,y_pred3,y_pred4,y_pred5]\n",
    "d =['DecTree','RandomForest','Log Regression','KNN','SuppVecMachine']\n",
    "a={} \n",
    "k=0\n",
    "list2 = []\n",
    "for i in list1:\n",
    "    list2.append(accuracy_score(i,y_test)*100)\n",
    "for i in d:\n",
    "    a[i] = list2[k]\n",
    "    k+=1"
   ]
  },
  {
   "cell_type": "code",
   "execution_count": 41,
   "id": "83acade9",
   "metadata": {},
   "outputs": [
    {
     "name": "stdout",
     "output_type": "stream",
     "text": [
      "List of all model accuracies:\n",
      " {'DecTree': 96.52996845425868, 'RandomForest': 98.26498422712933, 'Log Regression': 97.79179810725552, 'KNN': 96.21451104100946, 'SuppVecMachine': 98.10725552050474}\n"
     ]
    }
   ],
   "source": [
    "print(\"List of all model accuracies:\\n\",a)"
   ]
  },
  {
   "cell_type": "code",
   "execution_count": 42,
   "id": "eccea42a",
   "metadata": {},
   "outputs": [
    {
     "name": "stdout",
     "output_type": "stream",
     "text": [
      "the most accurate model is: RandomForest\n"
     ]
    }
   ],
   "source": [
    "print(\"the most accurate model is:\", max(a, key=a.get))"
   ]
  },
  {
   "cell_type": "code",
   "execution_count": 43,
   "id": "239f236c",
   "metadata": {},
   "outputs": [
    {
     "name": "stdout",
     "output_type": "stream",
     "text": [
      "[[0.07512195 0.08427911]\n",
      " [0.07325232 0.10793655]\n",
      " [0.12320696 0.09870626]\n",
      " ...\n",
      " [0.19093638 0.20991768]\n",
      " [0.1764347  0.172375  ]\n",
      " [0.18075587 0.18560693]]\n"
     ]
    },
    {
     "data": {
      "text/plain": [
       "array([0.00230811, 0.00296143, 0.00084816, 0.01275809, 0.00238078,\n",
       "       0.06320562, 0.00423932, 0.00140314, 0.01357726, 0.01218107,\n",
       "       0.00244231, 0.00505356, 0.8458618 , 0.01664021, 0.00105235,\n",
       "       0.00140314, 0.        , 0.00754654, 0.00257017, 0.00156693])"
      ]
     },
     "execution_count": 43,
     "metadata": {},
     "output_type": "execute_result"
    }
   ],
   "source": [
    "from sklearn.feature_selection import SelectFromModel\n",
    "model = SelectFromModel(DTmodel,prefit=True)\n",
    "x_new = model.transform(x)            #对基本分类器进行训练并执行特征选择 \n",
    "print(x_new)\n",
    "\n",
    "DTmodel.feature_importances_"
   ]
  },
  {
   "cell_type": "code",
   "execution_count": null,
   "id": "012227b3",
   "metadata": {},
   "outputs": [],
   "source": []
  }
 ],
 "metadata": {
  "kernelspec": {
   "display_name": "Python 3 (ipykernel)",
   "language": "python",
   "name": "python3"
  },
  "language_info": {
   "codemirror_mode": {
    "name": "ipython",
    "version": 3
   },
   "file_extension": ".py",
   "mimetype": "text/x-python",
   "name": "python",
   "nbconvert_exporter": "python",
   "pygments_lexer": "ipython3",
   "version": "3.9.13"
  }
 },
 "nbformat": 4,
 "nbformat_minor": 5
}
