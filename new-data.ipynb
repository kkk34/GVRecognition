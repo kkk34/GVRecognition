{
 "cells": [
  {
   "cell_type": "code",
   "execution_count": 1,
   "id": "60d43e78",
   "metadata": {},
   "outputs": [],
   "source": [
    "import pandas as pd\n",
    "import matplotlib.pyplot as plt\n",
    "import numpy as np\n",
    "import seaborn as sns\n",
    "\n",
    "import warnings\n",
    "warnings.filterwarnings('ignore')"
   ]
  },
  {
   "cell_type": "code",
   "execution_count": null,
   "id": "376908e3",
   "metadata": {},
   "outputs": [],
   "source": [
    "df=pd.read_csv('voice.csv')\n",
    "male=df.iloc[:1583,:]                #0-1583为male\n",
    "male_x1=male['IQR']\n",
    "male_x2=male['meanfun']\n",
    " \n",
    "female=df.iloc[1584:,:]              #1584之后为female\n",
    "female_x1=female['IQR']\n",
    "female_x2=female['meanfun']\n",
    "plt.figure()\n",
    "plt.scatter(male_x1,male_x2,c='b',alpha=0.5,label='male')\n",
    "plt.scatter(female_x1,female_x2,c='r',alpha=0.5,marker=\"p\",label='female')\n",
    "plt.xlabel('IQR')\n",
    "plt.ylabel('meanfun')\n",
    "plt.legend(loc='upper right')    \n",
    " \n",
    "plt.show()\n"
   ]
  },
  {
   "cell_type": "code",
   "execution_count": null,
   "id": "fce7a5db",
   "metadata": {},
   "outputs": [],
   "source": [
    "x = df.iloc[:,[5,12]]       ## 选择第6、13列\n",
    "y = df.label \n",
    "x.head()"
   ]
  },
  {
   "cell_type": "code",
   "execution_count": null,
   "id": "c569d652",
   "metadata": {},
   "outputs": [],
   "source": [
    "#使用一个0-1变量（哑变量）进行替代male和female两个属性\n",
    "from sklearn.preprocessing import LabelEncoder\n",
    "y = LabelEncoder().fit_transform(y)"
   ]
  },
  {
   "cell_type": "code",
   "execution_count": null,
   "id": "f176dd04",
   "metadata": {},
   "outputs": [],
   "source": [
    "#将数据集拆分为训练和测试，测试大小为20%\n",
    "from sklearn.model_selection import train_test_split\n",
    "x_train, x_test,y_train,y_test = train_test_split(x,y,test_size=0.2)\n",
    "\n",
    "\n",
    "###数据归一化\n",
    "from sklearn.preprocessing import StandardScaler\n",
    "scaler1 = StandardScaler()\n",
    "scaler1.fit(x_train)\n",
    "x_train = scaler1.transform(x_train)\n",
    "x_test = scaler1.transform(x_test)\n",
    "\n"
   ]
  },
  {
   "cell_type": "code",
   "execution_count": null,
   "id": "f5e72869",
   "metadata": {},
   "outputs": [],
   "source": [
    "from sklearn.metrics import classification_report,accuracy_score\n",
    "###1) Decision Tree Classifier\n",
    "from sklearn.tree import DecisionTreeClassifier\n",
    "DTmodel = DecisionTreeClassifier(random_state = 1)\n",
    "DTmodel.fit(x_train,y_train)\n",
    "y_pred1 = DTmodel.predict(x_test)\n",
    "\n",
    "###2) Random Forest \n",
    "from sklearn.ensemble import RandomForestClassifier\n",
    "RFmodel = RandomForestClassifier(random_state = 200)\n",
    "RFmodel.fit(x_train,y_train)\n",
    "y_pred2 = RFmodel.predict(x_test)\n",
    "\n",
    "###3)Logistic Regression\n",
    "from sklearn.linear_model import LogisticRegression\n",
    "LRmodel = LogisticRegression(max_iter=10000)\n",
    "LRmodel.fit(x_train,y_train)\n",
    "y_pred3 = LRmodel.predict(x_test)\n",
    "\n",
    "###4) KNN Classifier\n",
    "from sklearn.neighbors import KNeighborsClassifier\n",
    "KNmodel = KNeighborsClassifier(n_neighbors =15, metric = 'minkowski', p = 1)\n",
    "KNmodel.fit(x_train, y_train)\n",
    "y_pred4 = KNmodel.predict(x_test)\n",
    "\n",
    "###5) SVM Model\n",
    "from sklearn.svm import SVC\n",
    "SVMmodel = SVC(kernel = 'linear',probability=True)\n",
    "SVMmodel.fit(x_train,y_train)\n",
    "y_pred5 = SVMmodel.predict(x_test)\n"
   ]
  },
  {
   "cell_type": "code",
   "execution_count": null,
   "id": "7ca855cf",
   "metadata": {},
   "outputs": [],
   "source": [
    "print(\"Decision Tree Accuracy score: \",accuracy_score(y_pred1,y_test)*100,\"%\")\n",
    "print('score of Random forest model is: ',RFmodel.score(x_test,y_test))\n",
    "print(\"Random Forest Accuracy score: \",accuracy_score(y_pred2,y_test)*100,\"%\")\n",
    "print(\"Log Reg Accuracy score: \",accuracy_score(y_pred3,y_test)*100,\"%\")\n",
    "print(\"KNN Accuracy score: \",accuracy_score(y_pred4,y_test)*100,\"%\")\n",
    "print(\"SVM Accuracy score: \",accuracy_score(y_pred5,y_test)*100,\"%\")"
   ]
  },
  {
   "cell_type": "code",
   "execution_count": null,
   "id": "fd478db3",
   "metadata": {},
   "outputs": [],
   "source": [
    "from sklearn.metrics import roc_curve, auc  \n",
    "import matplotlib.pyplot as plt\n",
    "\n",
    "#plt.figure()\n",
    "fig = plt.figure(figsize =(10, 7))\n",
    "###############画DTmodel的ROC-AUC曲线########################\n",
    "prob_predict_y_validation_DTmodel = DTmodel.predict_proba(x_test)#给出带有概率值的结果，每个点所有label的概率和为1\n",
    "predictions_validation_DTmodel = prob_predict_y_validation_DTmodel[:, 1]  \n",
    "fpr_DTmodel, tpr_DTmodel, _ = roc_curve(y_test, predictions_validation_DTmodel) \n",
    "roc_auc_DTmodel = auc(fpr_DTmodel, tpr_DTmodel)  \n",
    "plt.plot(fpr_DTmodel, tpr_DTmodel, 'b', label='DTmodel = %0.2f' % roc_auc_DTmodel) \n",
    "\n",
    "###############画rf的ROC-AUC曲线########################\n",
    "\n",
    "prob_predict_y_validation_RFmodel = RFmodel.predict_proba(x_test)#给出带有概率值的结果，每个点所有label的概率和为1\n",
    "predictions_validation_RFmodel = prob_predict_y_validation_RFmodel[:, 1]  \n",
    "fpr_RFmodel, tpr_RFmodel, _ = roc_curve(y_test, predictions_validation_RFmodel) \n",
    "roc_auc_RFmodel = auc(fpr_RFmodel, tpr_RFmodel)  \n",
    "plt.plot(fpr_RFmodel, tpr_RFmodel, '#9932CC', label='RFmodel = %0.2f' % roc_auc_RFmodel) \n",
    "\n",
    "###############画logistic的ROC-AUC曲线########################\n",
    "\n",
    "prob_predict_y_validation_LRmodel = LRmodel.predict_proba(x_test) #给出带有概率值的结果，每个点所有label的概率和为1\n",
    "predictions_validation_LRmodel = prob_predict_y_validation_LRmodel[:, 1]  \n",
    "fpr_LRmodel, tpr_LRmodel, _ = roc_curve(y_test, predictions_validation_LRmodel) \n",
    "roc_auc_LRmodel = auc(fpr_LRmodel, tpr_LRmodel)  \n",
    "plt.plot(fpr_LRmodel, tpr_LRmodel, 'g', label='LRmodel = %0.2f' % roc_auc_LRmodel) \n",
    "\n",
    "\n",
    "###############画KNN的ROC-AUC曲线########################\n",
    "\n",
    "prob_predict_y_validation_KNmodel = KNmodel.predict_proba(x_test)#给出带有概率值的结果，每个点所有label的概率和为1\n",
    "predictions_validation_KNmodel = prob_predict_y_validation_KNmodel[:, 1]  \n",
    "fpr_KNmodel, tpr_KNmodel, _ = roc_curve(y_test, predictions_validation_KNmodel) \n",
    "roc_auc_KNmodel = auc(fpr_KNmodel, tpr_KNmodel)  \n",
    "plt.plot(fpr_KNmodel, tpr_KNmodel, 'y', label='KNmodel = %0.2f' % roc_auc_KNmodel)\n",
    "\n",
    "###############画SVM的ROC-AUC曲线########################\n",
    "\n",
    "prob_predict_y_validation_SVMmodel = SVMmodel.predict_proba(x_test)#给出带有概率值的结果，每个点所有label的概率和为1\n",
    "predictions_validation_SVMmodel = prob_predict_y_validation_SVMmodel[:, 1]  \n",
    "fpr_SVMmodel, tpr_SVMmodel, _ = roc_curve(y_test, predictions_validation_SVMmodel) \n",
    "roc_auc_SVMmodel= auc(fpr_SVMmodel, tpr_SVMmodel)  \n",
    "plt.plot(fpr_SVMmodel, tpr_SVMmodel, 'm', label='SVMmodel = %0.2f' % roc_auc_SVMmodel) \n",
    "\n",
    "\n",
    "###############################roc auc公共设置##################################\n",
    "plt.title('ROC Validation')  \n",
    "plt.legend(loc='lower right')  \n",
    "plt.plot([0, 1], [0, 1], 'r--')  \n",
    "plt.xlim([0, 1])  \n",
    "plt.ylim([0, 1])  \n",
    "plt.ylabel('True Positive Rate')  \n",
    "plt.xlabel('False Positive Rate') \n"
   ]
  },
  {
   "cell_type": "code",
   "execution_count": null,
   "id": "8ba3585a",
   "metadata": {},
   "outputs": [],
   "source": [
    "list1 = [y_pred1,y_pred2,y_pred3,y_pred4,y_pred5]\n",
    "d =['DecTree','RandomForest','Log Regression','KNN','SuppVecMachine']\n",
    "a={} \n",
    "k=0\n",
    "list2 = []\n",
    "for i in list1:\n",
    "    list2.append(accuracy_score(i,y_test)*100)\n",
    "for i in d:\n",
    "    a[i] = list2[k]\n",
    "    k+=1"
   ]
  },
  {
   "cell_type": "code",
   "execution_count": null,
   "id": "a8d09cb7",
   "metadata": {},
   "outputs": [],
   "source": [
    "print(\"List of all model accuracies:\\n\",a)"
   ]
  },
  {
   "cell_type": "code",
   "execution_count": null,
   "id": "6f5a9473",
   "metadata": {},
   "outputs": [],
   "source": [
    "print(\"the most accurate model is:\", max(a, key=a.get))"
   ]
  }
 ],
 "metadata": {
  "kernelspec": {
   "display_name": "Python 3 (ipykernel)",
   "language": "python",
   "name": "python3"
  },
  "language_info": {
   "codemirror_mode": {
    "name": "ipython",
    "version": 3
   },
   "file_extension": ".py",
   "mimetype": "text/x-python",
   "name": "python",
   "nbconvert_exporter": "python",
   "pygments_lexer": "ipython3",
   "version": "3.9.13"
  }
 },
 "nbformat": 4,
 "nbformat_minor": 5
}
